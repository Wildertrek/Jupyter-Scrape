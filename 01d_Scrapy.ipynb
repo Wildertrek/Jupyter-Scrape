{
 "cells": [
  {
   "cell_type": "code",
   "execution_count": 12,
   "metadata": {},
   "outputs": [
    {
     "name": "stdout",
     "output_type": "stream",
     "text": [
      "2020-11-06 13:40:03 [scrapy.utils.log] INFO: Scrapy 2.4.0 started (bot: scrapybot)\n",
      "2020-11-06 13:40:03 [scrapy.utils.log] INFO: Versions: lxml 4.6.1.0, libxml2 2.9.10, cssselect 1.1.0, parsel 1.6.0, w3lib 1.22.0, Twisted 20.3.0, Python 3.7.4 (default, Aug 13 2019, 15:17:50) - [Clang 4.0.1 (tags/RELEASE_401/final)], pyOpenSSL 19.1.0 (OpenSSL 1.1.1h  22 Sep 2020), cryptography 3.1.1, Platform Darwin-19.6.0-x86_64-i386-64bit\n",
      "2020-11-06 13:40:03 [scrapy.utils.log] DEBUG: Using reactor: twisted.internet.selectreactor.SelectReactor\n",
      "2020-11-06 13:40:03 [scrapy.crawler] INFO: Overridden settings:\n",
      "{'SPIDER_LOADER_WARN_ONLY': True}\n",
      "2020-11-06 13:40:03 [scrapy.extensions.telnet] INFO: Telnet Password: 071a3598ecf0e231\n",
      "2020-11-06 13:40:03 [scrapy.middleware] INFO: Enabled extensions:\n",
      "['scrapy.extensions.corestats.CoreStats',\n",
      " 'scrapy.extensions.telnet.TelnetConsole',\n",
      " 'scrapy.extensions.memusage.MemoryUsage',\n",
      " 'scrapy.extensions.feedexport.FeedExporter',\n",
      " 'scrapy.extensions.logstats.LogStats']\n",
      "2020-11-06 13:40:03 [scrapy.middleware] INFO: Enabled downloader middlewares:\n",
      "['scrapy.downloadermiddlewares.httpauth.HttpAuthMiddleware',\n",
      " 'scrapy.downloadermiddlewares.downloadtimeout.DownloadTimeoutMiddleware',\n",
      " 'scrapy.downloadermiddlewares.defaultheaders.DefaultHeadersMiddleware',\n",
      " 'scrapy.downloadermiddlewares.useragent.UserAgentMiddleware',\n",
      " 'scrapy.downloadermiddlewares.retry.RetryMiddleware',\n",
      " 'scrapy.downloadermiddlewares.redirect.MetaRefreshMiddleware',\n",
      " 'scrapy.downloadermiddlewares.httpcompression.HttpCompressionMiddleware',\n",
      " 'scrapy.downloadermiddlewares.redirect.RedirectMiddleware',\n",
      " 'scrapy.downloadermiddlewares.cookies.CookiesMiddleware',\n",
      " 'scrapy.downloadermiddlewares.httpproxy.HttpProxyMiddleware',\n",
      " 'scrapy.downloadermiddlewares.stats.DownloaderStats']\n",
      "2020-11-06 13:40:03 [scrapy.middleware] INFO: Enabled spider middlewares:\n",
      "['scrapy.spidermiddlewares.httperror.HttpErrorMiddleware',\n",
      " 'scrapy.spidermiddlewares.offsite.OffsiteMiddleware',\n",
      " 'scrapy.spidermiddlewares.referer.RefererMiddleware',\n",
      " 'scrapy.spidermiddlewares.urllength.UrlLengthMiddleware',\n",
      " 'scrapy.spidermiddlewares.depth.DepthMiddleware']\n",
      "2020-11-06 13:40:03 [scrapy.middleware] INFO: Enabled item pipelines:\n",
      "[]\n",
      "2020-11-06 13:40:03 [scrapy.core.engine] INFO: Spider opened\n",
      "2020-11-06 13:40:03 [scrapy.extensions.logstats] INFO: Crawled 0 pages (at 0 pages/min), scraped 0 items (at 0 items/min)\n",
      "2020-11-06 13:40:03 [scrapy.extensions.telnet] INFO: Telnet console listening on 127.0.0.1:6028\n",
      "2020-11-06 13:40:03 [scrapy.core.engine] DEBUG: Crawled (200) <GET http://quotes.toscrape.com/tag/humor/> (referer: None)\n",
      "2020-11-06 13:40:03 [scrapy.core.scraper] DEBUG: Scraped from <200 http://quotes.toscrape.com/tag/humor/>\n",
      "{'author': 'Jane Austen', 'text': '“The person, be it gentleman or lady, who has not pleasure in a good novel, must be intolerably stupid.”'}\n",
      "2020-11-06 13:40:03 [scrapy.core.scraper] DEBUG: Scraped from <200 http://quotes.toscrape.com/tag/humor/>\n",
      "{'author': 'Steve Martin', 'text': '“A day without sunshine is like, you know, night.”'}\n",
      "2020-11-06 13:40:03 [scrapy.core.scraper] DEBUG: Scraped from <200 http://quotes.toscrape.com/tag/humor/>\n",
      "{'author': 'Garrison Keillor', 'text': '“Anyone who thinks sitting in church can make you a Christian must also think that sitting in a garage can make you a car.”'}\n",
      "2020-11-06 13:40:03 [scrapy.core.scraper] DEBUG: Scraped from <200 http://quotes.toscrape.com/tag/humor/>\n",
      "{'author': 'Jim Henson', 'text': '“Beauty is in the eye of the beholder and it may be necessary from time to time to give a stupid or misinformed beholder a black eye.”'}\n",
      "2020-11-06 13:40:03 [scrapy.core.scraper] DEBUG: Scraped from <200 http://quotes.toscrape.com/tag/humor/>\n",
      "{'author': 'Charles M. Schulz', 'text': \"“All you need is love. But a little chocolate now and then doesn't hurt.”\"}\n",
      "2020-11-06 13:40:03 [scrapy.core.scraper] DEBUG: Scraped from <200 http://quotes.toscrape.com/tag/humor/>\n",
      "{'author': 'Suzanne Collins', 'text': \"“Remember, we're madly in love, so it's all right to kiss me anytime you feel like it.”\"}\n",
      "2020-11-06 13:40:03 [scrapy.core.scraper] DEBUG: Scraped from <200 http://quotes.toscrape.com/tag/humor/>\n",
      "{'author': 'Charles Bukowski', 'text': '“Some people never go crazy. What truly horrible lives they must lead.”'}\n",
      "2020-11-06 13:40:03 [scrapy.core.scraper] DEBUG: Scraped from <200 http://quotes.toscrape.com/tag/humor/>\n",
      "{'author': 'Terry Pratchett', 'text': '“The trouble with having an open mind, of course, is that people will insist on coming along and trying to put things in it.”'}\n",
      "2020-11-06 13:40:03 [scrapy.core.scraper] DEBUG: Scraped from <200 http://quotes.toscrape.com/tag/humor/>\n",
      "{'author': 'Dr. Seuss', 'text': '“Think left and think right and think low and think high. Oh, the thinks you can think up if only you try!”'}\n",
      "2020-11-06 13:40:03 [scrapy.core.scraper] DEBUG: Scraped from <200 http://quotes.toscrape.com/tag/humor/>\n",
      "{'author': 'George Carlin', 'text': '“The reason I talk to myself is because I’m the only one whose answers I accept.”'}\n",
      "2020-11-06 13:40:03 [scrapy.core.engine] DEBUG: Crawled (200) <GET http://quotes.toscrape.com/tag/humor/page/2/> (referer: http://quotes.toscrape.com/tag/humor/)\n",
      "2020-11-06 13:40:03 [scrapy.core.scraper] DEBUG: Scraped from <200 http://quotes.toscrape.com/tag/humor/page/2/>\n",
      "{'author': 'W.C. Fields', 'text': '“I am free of all prejudice. I hate everyone equally. ”'}\n",
      "2020-11-06 13:40:03 [scrapy.core.scraper] DEBUG: Scraped from <200 http://quotes.toscrape.com/tag/humor/page/2/>\n",
      "{'author': 'Jane Austen', 'text': \"“A lady's imagination is very rapid; it jumps from admiration to love, from love to matrimony in a moment.”\"}\n",
      "2020-11-06 13:40:03 [scrapy.core.engine] INFO: Closing spider (finished)\n",
      "2020-11-06 13:40:03 [scrapy.extensions.feedexport] INFO: Stored jl feed (12 items) in: quotes.jl\n",
      "2020-11-06 13:40:03 [scrapy.statscollectors] INFO: Dumping Scrapy stats:\n",
      "{'downloader/request_bytes': 521,\n",
      " 'downloader/request_count': 2,\n",
      " 'downloader/request_method_count/GET': 2,\n",
      " 'downloader/response_bytes': 3525,\n",
      " 'downloader/response_count': 2,\n",
      " 'downloader/response_status_count/200': 2,\n",
      " 'elapsed_time_seconds': 0.481805,\n",
      " 'finish_reason': 'finished',\n",
      " 'finish_time': datetime.datetime(2020, 11, 6, 18, 40, 3, 632352),\n",
      " 'item_scraped_count': 12,\n",
      " 'log_count/DEBUG': 14,\n",
      " 'log_count/INFO': 11,\n",
      " 'memusage/max': 53866496,\n",
      " 'memusage/startup': 53866496,\n",
      " 'request_depth_max': 1,\n",
      " 'response_received_count': 2,\n",
      " 'scheduler/dequeued': 2,\n",
      " 'scheduler/dequeued/memory': 2,\n",
      " 'scheduler/enqueued': 2,\n",
      " 'scheduler/enqueued/memory': 2,\n",
      " 'start_time': datetime.datetime(2020, 11, 6, 18, 40, 3, 150547)}\n",
      "2020-11-06 13:40:03 [scrapy.core.engine] INFO: Spider closed (finished)\n"
     ]
    }
   ],
   "source": [
    "#script example using scripts/quotes_spider.py\n",
    "!scrapy runspider scripts/quotes_spider.py -o quotes.jl"
   ]
  },
  {
   "cell_type": "code",
   "execution_count": 15,
   "metadata": {},
   "outputs": [
    {
     "name": "stdout",
     "output_type": "stream",
     "text": [
      "01_Scraping_Tools.ipynb  02a_NASA_API.ipynb       \u001b[34mpolicies\u001b[m\u001b[m/\n",
      "01a_BS4.ipynb            02b_Regulations.ipynb    quotes.jl\n",
      "01b_ElementTree.ipynb    02c_USA_gov.ipynb        regapikey.txt\n",
      "01c_Requests.ipynb       README.md                \u001b[34mscripts\u001b[m\u001b[m/\n",
      "01d_Scrapy.ipynb         apikey.txt\n",
      "02_USGov_Data.ipynb      demoapikey.txt\n"
     ]
    }
   ],
   "source": [
    "ls"
   ]
  },
  {
   "cell_type": "code",
   "execution_count": 16,
   "metadata": {},
   "outputs": [
    {
     "data": {
      "text/plain": [
       "{\"author\": \"Jane Austen\", \"text\": \"\\u201cThe person, be it gentleman or lady, who has not pleasure in a good novel, must be intolerably stupid.\\u201d\"}\n",
       "{\"author\": \"Steve Martin\", \"text\": \"\\u201cA day without sunshine is like, you know, night.\\u201d\"}\n",
       "{\"author\": \"Garrison Keillor\", \"text\": \"\\u201cAnyone who thinks sitting in church can make you a Christian must also think that sitting in a garage can make you a car.\\u201d\"}\n",
       "{\"author\": \"Jim Henson\", \"text\": \"\\u201cBeauty is in the eye of the beholder and it may be necessary from time to time to give a stupid or misinformed beholder a black eye.\\u201d\"}\n",
       "{\"author\": \"Charles M. Schulz\", \"text\": \"\\u201cAll you need is love. But a little chocolate now and then doesn't hurt.\\u201d\"}\n",
       "{\"author\": \"Suzanne Collins\", \"text\": \"\\u201cRemember, we're madly in love, so it's all right to kiss me anytime you feel like it.\\u201d\"}\n",
       "{\"author\": \"Charles Bukowski\", \"text\": \"\\u201cSome people never go crazy. What truly horrible lives they must lead.\\u201d\"}\n",
       "{\"author\": \"Terry Pratchett\", \"text\": \"\\u201cThe trouble with having an open mind, of course, is that people will insist on coming along and trying to put things in it.\\u201d\"}\n",
       "{\"author\": \"Dr. Seuss\", \"text\": \"\\u201cThink left and think right and think low and think high. Oh, the thinks you can think up if only you try!\\u201d\"}\n",
       "{\"author\": \"George Carlin\", \"text\": \"\\u201cThe reason I talk to myself is because I\\u2019m the only one whose answers I accept.\\u201d\"}\n",
       "{\"author\": \"W.C. Fields\", \"text\": \"\\u201cI am free of all prejudice. I hate everyone equally. \\u201d\"}\n",
       "{\"author\": \"Jane Austen\", \"text\": \"\\u201cA lady's imagination is very rapid; it jumps from admiration to love, from love to matrimony in a moment.\\u201d\"}\n"
      ]
     },
     "metadata": {},
     "output_type": "display_data"
    }
   ],
   "source": [
    "more quotes.jl"
   ]
  },
  {
   "cell_type": "code",
   "execution_count": null,
   "metadata": {},
   "outputs": [],
   "source": []
  }
 ],
 "metadata": {
  "kernelspec": {
   "display_name": "Python 3",
   "language": "python",
   "name": "python3"
  },
  "language_info": {
   "codemirror_mode": {
    "name": "ipython",
    "version": 3
   },
   "file_extension": ".py",
   "mimetype": "text/x-python",
   "name": "python",
   "nbconvert_exporter": "python",
   "pygments_lexer": "ipython3",
   "version": "3.7.4"
  }
 },
 "nbformat": 4,
 "nbformat_minor": 4
}
