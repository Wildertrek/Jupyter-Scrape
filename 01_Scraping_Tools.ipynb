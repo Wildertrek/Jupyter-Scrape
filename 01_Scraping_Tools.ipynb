{
 "cells": [
  {
   "cell_type": "markdown",
   "metadata": {},
   "source": [
    "## 01 Scraping tools\n",
    "\n",
    "- [Scrapy](https://scrapy.org/) \n",
    "An open source and collaborative framework for extracting the data you need from websites.\n",
    "In a fast, simple, yet extensible way.\n",
    "- [GNU Wget](https://www.gnu.org/software/wget/) GNU Wget is a free software package for retrieving files using HTTP, HTTPS, FTP and FTPS, the most widely used Internet protocols. It is a non-interactive commandline tool, so it may easily be called from scripts, cron jobs, terminals without X-Windows support, etc.\n",
    "- [BeautifulSoup](https://www.crummy.com/software/BeautifulSoup/) Beautiful Soup is a library that makes it easy to scrape information from web pages. It sits atop an HTML or XML parser, providing Pythonic idioms for iterating, searching, and modifying the parse tree. [BS4 Documentation](https://www.crummy.com/software/BeautifulSoup/bs4/doc/) [BS4 PyPi information](https://pypi.org/project/beautifulsoup4/)\n",
    "- [lxml](https://lxml.de/)lxml is the most feature-rich and easy-to-use library for processing XML and HTML in the Python language.\n",
    "- [Requests III](https://3.python-requests.org/): HTTP for Humans and Machines, alike.\n",
    "- [selenium](https://pypi.org/project/selenium/) Python language bindings for Selenium WebDriver.The selenium package is used to automate web browser interaction from Python.\n",
    "- [urllib](https://docs.python.org/3/library/urllib.html) a package that collects several modules for working with URLs.\n",
    "- [curl](https://curl.se/) curl is used in command lines or scripts to transfer data.\n",
    "\n"
   ]
  },
  {
   "cell_type": "code",
   "execution_count": null,
   "metadata": {},
   "outputs": [],
   "source": []
  }
 ],
 "metadata": {
  "kernelspec": {
   "display_name": "Python 3",
   "language": "python",
   "name": "python3"
  },
  "language_info": {
   "codemirror_mode": {
    "name": "ipython",
    "version": 3
   },
   "file_extension": ".py",
   "mimetype": "text/x-python",
   "name": "python",
   "nbconvert_exporter": "python",
   "pygments_lexer": "ipython3",
   "version": "3.7.4"
  }
 },
 "nbformat": 4,
 "nbformat_minor": 4
}
