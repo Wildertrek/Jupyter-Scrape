{
 "cells": [
  {
   "cell_type": "markdown",
   "metadata": {},
   "source": [
    "## CWBI Open API\n",
    "\n",
    "https://navdata-test.ops.usace.army.mil/data/example/\n",
    "https://navdata-test.ops.usace.army.mil/data/docs/"
   ]
  },
  {
   "cell_type": "code",
   "execution_count": null,
   "metadata": {},
   "outputs": [],
   "source": [
    "from IPython.display import HTML\n",
    "\n",
    "https://navdata-test.ops.usace.army.mil/data/locks/stoppage/all/\n",
    "\n",
    "<html>\n",
    "  <head>\n",
    "    <title>Consume a REST Web Service</title>\n",
    "    <script type=\"text/javascript\" src=\"http://code.jquery.com/jquery-1.8.2.min.js\"></script>\n",
    "  </head>\n",
    "  <body>\n",
    "    <p><div id=\"myOutput\">Output Goes Here</div></p>\n",
    "    <p>Set Params: </p>\n",
    "    <p><label for=\"riverVal\">River: </label><input id=\"riverVal\" value=\"MI\" type=\"text\" /></p>\n",
    "    <p><label for=\"lockVal\">Lock: </label><input id=\"lockVal\" value=\"01\" type=\"text\" /></p>\n",
    "    <p><input id=\"myButton\" value=\"Get Data\" type=\"submit\" /></p>\n",
    "    <p><input id=\"myClearButton\" value=\"Clear Data\" type=\"submit\" /></p>\n",
    "  </body>\n",
    "</html>"
   ]
  }
 ],
 "metadata": {
  "kernelspec": {
   "display_name": "Python 3",
   "language": "python",
   "name": "python3"
  },
  "language_info": {
   "codemirror_mode": {
    "name": "ipython",
    "version": 3
   },
   "file_extension": ".py",
   "mimetype": "text/x-python",
   "name": "python",
   "nbconvert_exporter": "python",
   "pygments_lexer": "ipython3",
   "version": "3.7.4"
  }
 },
 "nbformat": 4,
 "nbformat_minor": 4
}
